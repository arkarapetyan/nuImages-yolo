{
 "metadata": {
  "colab": {
   "provenance": [],
   "collapsed_sections": [
    "c3dsnFkN6bXP",
    "hyU4DOd_wZIX",
    "s7rtnE1FlVxA"
   ]
  },
  "kernelspec": {
   "name": "python3",
   "display_name": "Python 3",
   "language": "python"
  },
  "language_info": {
   "name": "python",
   "version": "3.10.13",
   "mimetype": "text/x-python",
   "codemirror_mode": {
    "name": "ipython",
    "version": 3
   },
   "pygments_lexer": "ipython3",
   "nbconvert_exporter": "python",
   "file_extension": ".py"
  },
  "kaggle": {
   "accelerator": "nvidiaTeslaT4",
   "dataSources": [],
   "dockerImageVersionId": 30699,
   "isInternetEnabled": true,
   "language": "python",
   "sourceType": "notebook",
   "isGpuEnabled": true
  }
 },
 "nbformat_minor": 0,
 "nbformat": 4,
 "cells": [
  {
   "cell_type": "markdown",
   "source": [
    "# Yolov8 Model Training on nuImages\n"
   ],
   "metadata": {
    "id": "BUv84TmqmVnG"
   }
  },
  {
   "cell_type": "markdown",
   "source": [
    "## Initialization"
   ],
   "metadata": {
    "id": "c3dsnFkN6bXP"
   }
  },
  {
   "cell_type": "code",
   "outputs": [],
   "source": [
    "#If this notebook is being run in Kaggle, run this to make sure that these files are not stored in the working directory\n",
    "\n",
    "%cd ../../\n",
    "%pwd"
   ],
   "metadata": {
    "collapsed": false
   }
  },
  {
   "cell_type": "code",
   "source": [
    "%pip install wget\n",
    "%pip install ultralytics\n",
    "%pip install clearml"
   ],
   "metadata": {
    "id": "HdnH1fzkSRuN",
    "execution": {
     "iopub.status.busy": "2024-05-23T14:46:10.988274Z",
     "iopub.execute_input": "2024-05-23T14:46:10.988623Z",
     "iopub.status.idle": "2024-05-23T14:46:27.455404Z",
     "shell.execute_reply.started": "2024-05-23T14:46:10.988594Z",
     "shell.execute_reply": "2024-05-23T14:46:27.454160Z"
    },
    "trusted": true
   },
   "execution_count": null,
   "outputs": []
  },
  {
   "cell_type": "code",
   "source": [
    "import os\n",
    "import wget\n",
    "import tarfile\n",
    "from ultralytics import YOLO\n",
    "from clearml import Task"
   ],
   "metadata": {
    "id": "zK4MkT3Y7ZrZ",
    "execution": {
     "iopub.status.busy": "2024-05-23T14:46:27.457801Z",
     "iopub.execute_input": "2024-05-23T14:46:27.458585Z",
     "iopub.status.idle": "2024-05-23T14:46:42.784032Z",
     "shell.execute_reply.started": "2024-05-23T14:46:27.458544Z",
     "shell.execute_reply": "2024-05-23T14:46:42.782925Z"
    },
    "trusted": true
   },
   "execution_count": null,
   "outputs": []
  },
  {
   "cell_type": "code",
   "source": [
    "%env CLEARML_WEB_HOST=https://app.clear.ml\n",
    "%env CLEARML_API_HOST=https://api.clear.ml\n",
    "%env CLEARML_FILES_HOST=https://files.clear.ml\n",
    "%env CLEARML_API_ACCESS_KEY= # Insert your key\n",
    "%env CLEARML_API_SECRET_KEY= # Insert your key\n",
    "!wandb login #Insert key\n",
    "clearml_project = 'nuimages-yolo'\n",
    "clearml_task = 'train' "
   ],
   "metadata": {
    "id": "FScalEVFSRuO",
    "execution": {
     "iopub.status.busy": "2024-05-23T14:46:42.785997Z",
     "iopub.execute_input": "2024-05-23T14:46:42.786382Z",
     "iopub.status.idle": "2024-05-23T14:46:42.797161Z",
     "shell.execute_reply.started": "2024-05-23T14:46:42.786345Z",
     "shell.execute_reply": "2024-05-23T14:46:42.796336Z"
    },
    "trusted": true
   },
   "execution_count": null,
   "outputs": []
  },
  {
   "cell_type": "code",
   "outputs": [],
   "source": [
    "home_path = './' # make sure this is the same as in the dataset creation\n",
    "dataset_path = os.path.join(home_path, '/datasets/nuImages') # make sure this is the same as in the dataset creation\n",
    "yaml_path = os.path.join(dataset_path,'data.yaml') # make sure this is the same as in the dataset creation\n",
    "raw_path = os.path.join(home_path, 'data/raw')\n",
    "weights_path = os.path.join(home_path, 'weights')\n",
    "if not os.path.exists(raw_path):\n",
    "  os.makedirs(raw_path)\n",
    "if not os.path.exists(dataset_path):\n",
    "  os.makedirs(dataset_path)\n",
    "if not os.path.exists(weights_path):\n",
    "  os.makedirs(weights_path)"
   ],
   "metadata": {
    "collapsed": false
   }
  },
  {
   "cell_type": "markdown",
   "source": [
    "## Downlaoding and Extracting the Dataset.\n"
   ],
   "metadata": {
    "id": "cKzp0ZDmmc-1"
   }
  },
  {
   "cell_type": "markdown",
   "source": [
    "### Download via Google Cloud"
   ],
   "metadata": {
    "id": "hyU4DOd_wZIX"
   }
  },
  {
   "cell_type": "code",
   "source": [
    "links = {\n",
    "    \"nuImages-train-1.tar.gz\": \"https://storage.googleapis.com/nuimages/nuImages-train-1.tar.gz\",\n",
    "    \"nuImages-train-2.tar.gz\": \"https://storage.googleapis.com/nuimages/nuImages-train-2.tar.gz\",\n",
    "    \"nuImages-train-3.tar.gz\": \"https://storage.googleapis.com/nuimages/nuImages-train-3.tar.gz\",\n",
    "    \"nuImages-train-4.tar.gz\": \"https://storage.googleapis.com/nuimages/nuImages-train-4.tar.gz\",\n",
    "    \"nuImages-train-5.tar.gz\": \"https://storage.googleapis.com/nuimages/nuImages-train-5.tar.gz\",\n",
    "    \"nuImages-train-6.tar.gz\": \"https://storage.googleapis.com/nuimages/nuImages-train-6.tar.gz\",\n",
    "    \"nuImages-train-7.tar.gz\": \"https://storage.googleapis.com/nuimages/nuImages-train-7.tar.gz\",\n",
    "    \"nuImages-train-8.tar.gz\": \"https://storage.googleapis.com/nuimages/nuImages-train-8.tar.gz\",\n",
    "    \"nuImages-train-9.tar.gz\": \"https://storage.googleapis.com/nuimages/nuImages-train-9.tar.gz\",\n",
    "    \"nuImages-val-1.tar.gz\": \"https://storage.googleapis.com/nuimages/nuImages-val-1.tar.gz\",\n",
    "    \"nuImages-val-2.tar.gz\": \"https://storage.googleapis.com/nuimages/nuImages-val-2.tar.gz\",\n",
    "    \"nuImages-yaml.tar.gz\": \"https://storage.googleapis.com/nuimages/nuImages-yaml.tar.gz\"\n",
    "}"
   ],
   "metadata": {
    "id": "Cumc7J7qwdzH",
    "execution": {
     "iopub.status.busy": "2024-05-23T14:46:46.329775Z",
     "iopub.execute_input": "2024-05-23T14:46:46.330075Z",
     "iopub.status.idle": "2024-05-23T14:49:04.130130Z",
     "shell.execute_reply.started": "2024-05-23T14:46:46.330049Z",
     "shell.execute_reply": "2024-05-23T14:49:04.128880Z"
    },
    "trusted": true
   },
   "execution_count": null,
   "outputs": []
  },
  {
   "cell_type": "code",
   "outputs": [],
   "source": [
    "for (archive_name, link) in links.items():\n",
    "    wget.download(link, out=raw_path)\n",
    "    with tarfile.open(os.path.join(raw_path, archive_name)) as archive:\n",
    "        archive.extractall(path=home_path)\n",
    "    os.remove(os.path.join(raw_path, archive_name))    "
   ],
   "metadata": {
    "collapsed": false
   }
  },
  {
   "cell_type": "markdown",
   "source": [
    "## Using Saved Weights"
   ],
   "metadata": {
    "collapsed": false
   }
  },
  {
   "cell_type": "markdown",
   "source": [
    "### Downloading Our Trained Weights"
   ],
   "metadata": {
    "collapsed": false
   }
  },
  {
   "cell_type": "code",
   "outputs": [],
   "source": [
    "wget.download('https://storage.googleapis.com/nuimages/best.pt', out=weights_path)\n",
    "wget.download('https://storage.googleapis.com/nuimages/last.pt', out=weights_path)\n",
    "ckpt = os.path.join(weights_path, 'last.pt')"
   ],
   "metadata": {
    "collapsed": false
   }
  },
  {
   "cell_type": "markdown",
   "source": [
    "### Using the default"
   ],
   "metadata": {
    "collapsed": false
   }
  },
  {
   "cell_type": "code",
   "outputs": [],
   "source": [
    "ckpt = 'yolov8l.pt'"
   ],
   "metadata": {
    "collapsed": false
   }
  },
  {
   "cell_type": "markdown",
   "source": [
    "## Training"
   ],
   "metadata": {
    "id": "DaYm7YP76WNY"
   }
  },
  {
   "cell_type": "code",
   "source": [
    "model = YOLO(ckpt)\n",
    "results = model.train(data=yaml_path, project=clearml_project, name=clearml_task,\n",
    "                        imgsz=960, epochs=4, warmup_epochs=0,\n",
    "                        optimizer='AdamW', cos_lr=False, lr0=50*1e-6,\n",
    "                        save=True, device=[0,1])"
   ],
   "metadata": {
    "id": "BJJt1UqySRuV",
    "execution": {
     "iopub.status.busy": "2024-05-23T15:26:39.431457Z",
     "iopub.execute_input": "2024-05-23T15:26:39.432338Z",
     "iopub.status.idle": "2024-05-23T20:18:20.987650Z",
     "shell.execute_reply.started": "2024-05-23T15:26:39.432305Z",
     "shell.execute_reply": "2024-05-23T20:18:20.986646Z"
    },
    "trusted": true
   },
   "execution_count": null,
   "outputs": []
  },
  {
   "cell_type": "code",
   "source": [
    "# If in Kaggle, run this to obtain the results in the output folder\n",
    "\n",
    "%cp -r /nuimages-yolo/ /kaggle/working/nuimages-yolo"
   ],
   "metadata": {
    "execution": {
     "iopub.status.busy": "2024-05-23T20:18:20.991038Z",
     "iopub.execute_input": "2024-05-23T20:18:20.991714Z",
     "iopub.status.idle": "2024-05-23T20:18:22.354941Z",
     "shell.execute_reply.started": "2024-05-23T20:18:20.991674Z",
     "shell.execute_reply": "2024-05-23T20:18:22.353695Z"
    },
    "trusted": true,
    "id": "EjQePzGiIIPc"
   },
   "execution_count": null,
   "outputs": []
  }
 ]
}
