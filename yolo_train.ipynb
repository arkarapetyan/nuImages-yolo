{
 "cells": [
  {
   "cell_type": "markdown",
   "metadata": {
    "id": "BUv84TmqmVnG"
   },
   "source": [
    "# Yolov8 Model Training on nuImages\n"
   ]
  },
  {
   "cell_type": "code",
   "execution_count": 1,
   "metadata": {},
   "outputs": [
    {
     "name": "stdout",
     "output_type": "stream",
     "text": [
      "test\n"
     ]
    }
   ],
   "source": [
    "print('test')"
   ]
  },
  {
   "cell_type": "markdown",
   "metadata": {
    "id": "c3dsnFkN6bXP"
   },
   "source": [
    "## Initialization"
   ]
  },
  {
   "cell_type": "code",
   "execution_count": null,
   "metadata": {},
   "outputs": [],
   "source": [
    "#If this notebook is being run in Kaggle, run this to make sure that these files are not stored in the working directory\n",
    "\n",
    "%cd ../../\n",
    "%pwd"
   ]
  },
  {
   "cell_type": "code",
   "execution_count": null,
   "metadata": {
    "execution": {
     "iopub.execute_input": "2024-05-23T14:46:10.988623Z",
     "iopub.status.busy": "2024-05-23T14:46:10.988274Z",
     "iopub.status.idle": "2024-05-23T14:46:27.455404Z",
     "shell.execute_reply": "2024-05-23T14:46:27.454160Z",
     "shell.execute_reply.started": "2024-05-23T14:46:10.988594Z"
    },
    "id": "HdnH1fzkSRuN"
   },
   "outputs": [],
   "source": [
    "%pip install wget\n",
    "%pip install ultralytics\n",
    "%pip install clearml"
   ]
  },
  {
   "cell_type": "code",
   "execution_count": null,
   "metadata": {
    "execution": {
     "iopub.execute_input": "2024-05-23T14:46:27.458585Z",
     "iopub.status.busy": "2024-05-23T14:46:27.457801Z",
     "iopub.status.idle": "2024-05-23T14:46:42.784032Z",
     "shell.execute_reply": "2024-05-23T14:46:42.782925Z",
     "shell.execute_reply.started": "2024-05-23T14:46:27.458544Z"
    },
    "id": "zK4MkT3Y7ZrZ"
   },
   "outputs": [],
   "source": [
    "import os\n",
    "import wget\n",
    "import tarfile\n",
    "from ultralytics import YOLO\n",
    "from clearml import Task"
   ]
  },
  {
   "cell_type": "code",
   "execution_count": null,
   "metadata": {
    "execution": {
     "iopub.execute_input": "2024-05-23T14:46:42.786382Z",
     "iopub.status.busy": "2024-05-23T14:46:42.785997Z",
     "iopub.status.idle": "2024-05-23T14:46:42.797161Z",
     "shell.execute_reply": "2024-05-23T14:46:42.796336Z",
     "shell.execute_reply.started": "2024-05-23T14:46:42.786345Z"
    },
    "id": "FScalEVFSRuO"
   },
   "outputs": [],
   "source": [
    "%env CLEARML_WEB_HOST=https://app.clear.ml\n",
    "%env CLEARML_API_HOST=https://api.clear.ml\n",
    "%env CLEARML_FILES_HOST=https://files.clear.ml\n",
    "%env CLEARML_API_ACCESS_KEY= # Insert your key\n",
    "%env CLEARML_API_SECRET_KEY= # Insert your key\n",
    "!wandb login #Insert key\n",
    "clearml_project = 'nuimages-yolo'\n",
    "clearml_task = 'train' "
   ]
  },
  {
   "cell_type": "code",
   "execution_count": null,
   "metadata": {},
   "outputs": [],
   "source": [
    "home_path = './' # make sure this is the same as in the dataset creation\n",
    "dataset_path = os.path.join(home_path, '/datasets/nuImages') # make sure this is the same as in the dataset creation\n",
    "yaml_path = os.path.join(dataset_path,'data.yaml') # make sure this is the same as in the dataset creation\n",
    "raw_path = os.path.join(home_path, 'data/raw')\n",
    "weights_path = os.path.join(home_path, 'weights')\n",
    "if not os.path.exists(raw_path):\n",
    "    os.makedirs(raw_path)\n",
    "if not os.path.exists(dataset_path):\n",
    "    os.makedirs(dataset_path)\n",
    "if not os.path.exists(weights_path):\n",
    "    os.makedirs(weights_path)"
   ]
  },
  {
   "cell_type": "markdown",
   "metadata": {
    "id": "cKzp0ZDmmc-1"
   },
   "source": [
    "## Downlaoding and Extracting the Dataset.\n"
   ]
  },
  {
   "cell_type": "markdown",
   "metadata": {
    "id": "hyU4DOd_wZIX"
   },
   "source": [
    "### Download via Google Cloud"
   ]
  },
  {
   "cell_type": "code",
   "execution_count": null,
   "metadata": {
    "execution": {
     "iopub.execute_input": "2024-05-23T14:46:46.330075Z",
     "iopub.status.busy": "2024-05-23T14:46:46.329775Z",
     "iopub.status.idle": "2024-05-23T14:49:04.130130Z",
     "shell.execute_reply": "2024-05-23T14:49:04.128880Z",
     "shell.execute_reply.started": "2024-05-23T14:46:46.330049Z"
    },
    "id": "Cumc7J7qwdzH"
   },
   "outputs": [],
   "source": [
    "links = {\n",
    "    \"nuImages-train-1.tar.gz\": \"https://storage.googleapis.com/nuimages/nuImages-train-1.tar.gz\",\n",
    "    \"nuImages-train-2.tar.gz\": \"https://storage.googleapis.com/nuimages/nuImages-train-2.tar.gz\",\n",
    "    \"nuImages-train-3.tar.gz\": \"https://storage.googleapis.com/nuimages/nuImages-train-3.tar.gz\",\n",
    "    \"nuImages-train-4.tar.gz\": \"https://storage.googleapis.com/nuimages/nuImages-train-4.tar.gz\",\n",
    "    \"nuImages-train-5.tar.gz\": \"https://storage.googleapis.com/nuimages/nuImages-train-5.tar.gz\",\n",
    "    \"nuImages-train-6.tar.gz\": \"https://storage.googleapis.com/nuimages/nuImages-train-6.tar.gz\",\n",
    "    \"nuImages-train-7.tar.gz\": \"https://storage.googleapis.com/nuimages/nuImages-train-7.tar.gz\",\n",
    "    \"nuImages-train-8.tar.gz\": \"https://storage.googleapis.com/nuimages/nuImages-train-8.tar.gz\",\n",
    "    \"nuImages-train-9.tar.gz\": \"https://storage.googleapis.com/nuimages/nuImages-train-9.tar.gz\",\n",
    "    \"nuImages-val-1.tar.gz\": \"https://storage.googleapis.com/nuimages/nuImages-val-1.tar.gz\",\n",
    "    \"nuImages-val-2.tar.gz\": \"https://storage.googleapis.com/nuimages/nuImages-val-2.tar.gz\",\n",
    "    \"nuImages-yaml.tar.gz\": \"https://storage.googleapis.com/nuimages/nuImages-yaml.tar.gz\"\n",
    "}"
   ]
  },
  {
   "cell_type": "code",
   "execution_count": null,
   "metadata": {},
   "outputs": [],
   "source": [
    "for (archive_name, link) in links.items():\n",
    "    wget.download(link, out=raw_path)\n",
    "    with tarfile.open(os.path.join(raw_path, archive_name)) as archive:\n",
    "        archive.extractall(path=home_path)\n",
    "    os.remove(os.path.join(raw_path, archive_name))    "
   ]
  },
  {
   "cell_type": "markdown",
   "metadata": {},
   "source": [
    "## Using Saved Weights"
   ]
  },
  {
   "cell_type": "markdown",
   "metadata": {},
   "source": [
    "### Downloading Our Trained Weights"
   ]
  },
  {
   "cell_type": "code",
   "execution_count": null,
   "metadata": {},
   "outputs": [],
   "source": [
    "wget.download('https://storage.googleapis.com/nuimages/best.pt', out=weights_path)\n",
    "wget.download('https://storage.googleapis.com/nuimages/last.pt', out=weights_path)\n",
    "ckpt = os.path.join(weights_path, 'last.pt')"
   ]
  },
  {
   "cell_type": "markdown",
   "metadata": {},
   "source": [
    "### Using the default"
   ]
  },
  {
   "cell_type": "code",
   "execution_count": null,
   "metadata": {},
   "outputs": [],
   "source": [
    "ckpt = 'yolov8l.pt'"
   ]
  },
  {
   "cell_type": "markdown",
   "metadata": {
    "id": "DaYm7YP76WNY"
   },
   "source": [
    "## Training"
   ]
  },
  {
   "cell_type": "code",
   "execution_count": null,
   "metadata": {
    "execution": {
     "iopub.execute_input": "2024-05-23T15:26:39.432338Z",
     "iopub.status.busy": "2024-05-23T15:26:39.431457Z",
     "iopub.status.idle": "2024-05-23T20:18:20.987650Z",
     "shell.execute_reply": "2024-05-23T20:18:20.986646Z",
     "shell.execute_reply.started": "2024-05-23T15:26:39.432305Z"
    },
    "id": "BJJt1UqySRuV"
   },
   "outputs": [],
   "source": [
    "model = YOLO(ckpt)\n",
    "results = model.train(data=yaml_path, project=clearml_project, name=clearml_task,\n",
    "                        imgsz=960, epochs=4, warmup_epochs=0,\n",
    "                        optimizer='AdamW', cos_lr=False, lr0=50*1e-6,\n",
    "                        save=True, device=[0,1])"
   ]
  },
  {
   "cell_type": "code",
   "execution_count": null,
   "metadata": {
    "execution": {
     "iopub.execute_input": "2024-05-23T20:18:20.991714Z",
     "iopub.status.busy": "2024-05-23T20:18:20.991038Z",
     "iopub.status.idle": "2024-05-23T20:18:22.354941Z",
     "shell.execute_reply": "2024-05-23T20:18:22.353695Z",
     "shell.execute_reply.started": "2024-05-23T20:18:20.991674Z"
    },
    "id": "EjQePzGiIIPc"
   },
   "outputs": [],
   "source": [
    "# If in Kaggle, run this to obtain the results in the output folder\n",
    "\n",
    "%cp -r /nuimages-yolo/ /kaggle/working/nuimages-yolo"
   ]
  }
 ],
 "metadata": {
  "colab": {
   "collapsed_sections": [
    "c3dsnFkN6bXP",
    "hyU4DOd_wZIX",
    "s7rtnE1FlVxA"
   ],
   "provenance": []
  },
  "kaggle": {
   "accelerator": "nvidiaTeslaT4",
   "dataSources": [],
   "dockerImageVersionId": 30699,
   "isGpuEnabled": true,
   "isInternetEnabled": true,
   "language": "python",
   "sourceType": "notebook"
  },
  "kernelspec": {
   "display_name": "Python 3 (ipykernel)",
   "language": "python",
   "name": "python3"
  },
  "language_info": {
   "codemirror_mode": {
    "name": "ipython",
    "version": 3
   },
   "file_extension": ".py",
   "mimetype": "text/x-python",
   "name": "python",
   "nbconvert_exporter": "python",
   "pygments_lexer": "ipython3",
   "version": "3.11.4"
  }
 },
 "nbformat": 4,
 "nbformat_minor": 1
}
